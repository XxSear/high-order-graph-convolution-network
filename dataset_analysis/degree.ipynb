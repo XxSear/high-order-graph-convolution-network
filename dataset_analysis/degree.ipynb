{
 "cells": [
  {
   "cell_type": "code",
   "execution_count": 1,
   "metadata": {},
   "outputs": [],
   "source": [
    "import sys\n",
    "sys.path.append('..')\n",
    "\n",
    "import matplotlib.pyplot as plt\n",
    "from data_loader import Cora, Citeseer, Pubmed\n",
    "import torch\n",
    "import numpy as np\n",
    "import seaborn as sns\n",
    "import pandas as pd\n",
    "from dataset_analysis.degree_display import display_first_degree,display_second_degree,display_second_path\n"
   ]
  },
  {
   "cell_type": "code",
   "execution_count": null,
   "metadata": {},
   "outputs": [
    {
     "data": {
      "text/plain": [
       "<Figure size 3600x3600 with 0 Axes>"
      ]
     },
     "metadata": {},
     "output_type": "display_data"
    }
   ],
   "source": [
    "plt.figure()\n",
    "\n",
    "plt.rcParams['figure.figsize'] = (12.0, 12.0) # 设置figure_size尺寸\n",
    "plt.rcParams['savefig.dpi'] = 300 #图片像素\n",
    "plt.rcParams['figure.dpi'] = 300 #分辨率\n",
    "\n",
    "# 默认的像素：[6.0,4.0]，分辨率为100，图片尺寸为\n",
    "# 指定dpi=200，图片尺寸为 1200*800\n",
    "# 指定dpi=300，图片尺寸为 1800*1200\n",
    "# 设置figsize可以在不改变分辨率情况下改变比例\n",
    "\n",
    "display_first_degree(Cora(), plot=False, pos=331)\n",
    "display_second_degree(Cora(), plot=False, pos=332)\n",
    "display_second_path(Cora(), plot=False, pos=333)\n",
    "display_first_degree(Citeseer(), plot=False, pos=334)\n",
    "display_second_degree(Citeseer(), plot=False, pos=335)\n",
    "display_second_path(Citeseer(), plot=False, pos=336)\n",
    "display_first_degree(Pubmed(), plot=False, pos=337)\n",
    "display_second_degree(Pubmed(), plot=False, pos=338)\n",
    "display_second_path(Pubmed(), plot=False, pos=339)\n",
    "plt.show()\n",
    "plt.savefig('demo.png', dpi=300)"
   ]
  },
  {
   "cell_type": "code",
   "execution_count": null,
   "metadata": {},
   "outputs": [],
   "source": [
    "plt.subplot(22)\n",
    "\n",
    "# equivalent but more general\n",
    "ax1=plt.subplot(2, 2)\n",
    "\n",
    "# add a subplot with no frame\n",
    "ax2=plt.subplot(22, frameon=False)\n",
    "\n",
    "# add a polar subplot\n",
    "plt.subplot(21, projection='polar')\n",
    "\n",
    "# add a red subplot that shares the x-axis with ax1\n",
    "plt.subplot(12, sharex=ax1, facecolor='red')\n",
    "\n",
    "#delete ax2 from the figure\n",
    "plt.delaxes(ax2)\n",
    "\n",
    "#add ax2 to the figure again\n",
    "plt.subplot(ax2)\n",
    "\n",
    "plt.show()"
   ]
  },
  {
   "cell_type": "code",
   "execution_count": null,
   "metadata": {},
   "outputs": [],
   "source": []
  },
  {
   "cell_type": "code",
   "execution_count": null,
   "metadata": {},
   "outputs": [],
   "source": []
  }
 ],
 "metadata": {
  "kernelspec": {
   "display_name": "Python [conda env:GNN36]",
   "language": "python",
   "name": "conda-env-GNN36-py"
  },
  "language_info": {
   "codemirror_mode": {
    "name": "ipython",
    "version": 3
   },
   "file_extension": ".py",
   "mimetype": "text/x-python",
   "name": "python",
   "nbconvert_exporter": "python",
   "pygments_lexer": "ipython3",
   "version": "3.6.8"
  }
 },
 "nbformat": 4,
 "nbformat_minor": 2
}
